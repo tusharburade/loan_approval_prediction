{
 "cells": [
  {
   "attachments": {},
   "cell_type": "markdown",
   "metadata": {},
   "source": [
    "### **Data Collection**"
   ]
  },
  {
   "cell_type": "code",
   "execution_count": 1,
   "metadata": {},
   "outputs": [],
   "source": [
    "#importing required labraries\n",
    "import pandas as pd\n",
    "import numpy as np\n",
    "import seaborn as sns \n",
    "import matplotlib.pyplot as plt"
   ]
  },
  {
   "cell_type": "code",
   "execution_count": 2,
   "metadata": {},
   "outputs": [],
   "source": [
    "# loading the clean data csv to a Pandas DataFrame\n",
    "df=pd.read_csv(\"F:\\Project\\Classification\\Loan approval prediction\\clean_data.csv\")"
   ]
  },
  {
   "cell_type": "code",
   "execution_count": 3,
   "metadata": {},
   "outputs": [
    {
     "data": {
      "text/html": [
       "<div>\n",
       "<style scoped>\n",
       "    .dataframe tbody tr th:only-of-type {\n",
       "        vertical-align: middle;\n",
       "    }\n",
       "\n",
       "    .dataframe tbody tr th {\n",
       "        vertical-align: top;\n",
       "    }\n",
       "\n",
       "    .dataframe thead th {\n",
       "        text-align: right;\n",
       "    }\n",
       "</style>\n",
       "<table border=\"1\" class=\"dataframe\">\n",
       "  <thead>\n",
       "    <tr style=\"text-align: right;\">\n",
       "      <th></th>\n",
       "      <th>Gender</th>\n",
       "      <th>Married</th>\n",
       "      <th>Dependents</th>\n",
       "      <th>Education</th>\n",
       "      <th>Self_Employed</th>\n",
       "      <th>ApplicantIncome</th>\n",
       "      <th>CoapplicantIncome</th>\n",
       "      <th>LoanAmount</th>\n",
       "      <th>Loan_Amount_Term</th>\n",
       "      <th>Credit_History</th>\n",
       "      <th>Loan_Status</th>\n",
       "      <th>Property_Area_Rural</th>\n",
       "      <th>Property_Area_Semiurban</th>\n",
       "      <th>Property_Area_Urban</th>\n",
       "    </tr>\n",
       "  </thead>\n",
       "  <tbody>\n",
       "    <tr>\n",
       "      <th>0</th>\n",
       "      <td>1</td>\n",
       "      <td>0</td>\n",
       "      <td>0.0</td>\n",
       "      <td>1</td>\n",
       "      <td>0</td>\n",
       "      <td>5849</td>\n",
       "      <td>0.0</td>\n",
       "      <td>128.0</td>\n",
       "      <td>360.0</td>\n",
       "      <td>1.0</td>\n",
       "      <td>Y</td>\n",
       "      <td>0</td>\n",
       "      <td>0</td>\n",
       "      <td>1</td>\n",
       "    </tr>\n",
       "    <tr>\n",
       "      <th>1</th>\n",
       "      <td>1</td>\n",
       "      <td>1</td>\n",
       "      <td>1.0</td>\n",
       "      <td>1</td>\n",
       "      <td>0</td>\n",
       "      <td>4583</td>\n",
       "      <td>1508.0</td>\n",
       "      <td>128.0</td>\n",
       "      <td>360.0</td>\n",
       "      <td>1.0</td>\n",
       "      <td>N</td>\n",
       "      <td>1</td>\n",
       "      <td>0</td>\n",
       "      <td>0</td>\n",
       "    </tr>\n",
       "    <tr>\n",
       "      <th>2</th>\n",
       "      <td>1</td>\n",
       "      <td>1</td>\n",
       "      <td>0.0</td>\n",
       "      <td>1</td>\n",
       "      <td>1</td>\n",
       "      <td>3000</td>\n",
       "      <td>0.0</td>\n",
       "      <td>66.0</td>\n",
       "      <td>360.0</td>\n",
       "      <td>1.0</td>\n",
       "      <td>Y</td>\n",
       "      <td>0</td>\n",
       "      <td>0</td>\n",
       "      <td>1</td>\n",
       "    </tr>\n",
       "    <tr>\n",
       "      <th>3</th>\n",
       "      <td>1</td>\n",
       "      <td>1</td>\n",
       "      <td>0.0</td>\n",
       "      <td>0</td>\n",
       "      <td>0</td>\n",
       "      <td>2583</td>\n",
       "      <td>2358.0</td>\n",
       "      <td>120.0</td>\n",
       "      <td>360.0</td>\n",
       "      <td>1.0</td>\n",
       "      <td>Y</td>\n",
       "      <td>0</td>\n",
       "      <td>0</td>\n",
       "      <td>1</td>\n",
       "    </tr>\n",
       "    <tr>\n",
       "      <th>4</th>\n",
       "      <td>1</td>\n",
       "      <td>0</td>\n",
       "      <td>0.0</td>\n",
       "      <td>1</td>\n",
       "      <td>0</td>\n",
       "      <td>6000</td>\n",
       "      <td>0.0</td>\n",
       "      <td>141.0</td>\n",
       "      <td>360.0</td>\n",
       "      <td>1.0</td>\n",
       "      <td>Y</td>\n",
       "      <td>0</td>\n",
       "      <td>0</td>\n",
       "      <td>1</td>\n",
       "    </tr>\n",
       "  </tbody>\n",
       "</table>\n",
       "</div>"
      ],
      "text/plain": [
       "   Gender  Married  Dependents  Education  Self_Employed  ApplicantIncome  \\\n",
       "0       1        0         0.0          1              0             5849   \n",
       "1       1        1         1.0          1              0             4583   \n",
       "2       1        1         0.0          1              1             3000   \n",
       "3       1        1         0.0          0              0             2583   \n",
       "4       1        0         0.0          1              0             6000   \n",
       "\n",
       "   CoapplicantIncome  LoanAmount  Loan_Amount_Term  Credit_History  \\\n",
       "0                0.0       128.0             360.0             1.0   \n",
       "1             1508.0       128.0             360.0             1.0   \n",
       "2                0.0        66.0             360.0             1.0   \n",
       "3             2358.0       120.0             360.0             1.0   \n",
       "4                0.0       141.0             360.0             1.0   \n",
       "\n",
       "  Loan_Status  Property_Area_Rural  Property_Area_Semiurban  \\\n",
       "0           Y                    0                        0   \n",
       "1           N                    1                        0   \n",
       "2           Y                    0                        0   \n",
       "3           Y                    0                        0   \n",
       "4           Y                    0                        0   \n",
       "\n",
       "   Property_Area_Urban  \n",
       "0                    1  \n",
       "1                    0  \n",
       "2                    1  \n",
       "3                    1  \n",
       "4                    1  "
      ]
     },
     "execution_count": 3,
     "metadata": {},
     "output_type": "execute_result"
    }
   ],
   "source": [
    "# print first 5 rows of the dataset\n",
    "df.head()"
   ]
  },
  {
   "attachments": {},
   "cell_type": "markdown",
   "metadata": {},
   "source": [
    "### **Split data**"
   ]
  },
  {
   "cell_type": "code",
   "execution_count": 4,
   "metadata": {},
   "outputs": [],
   "source": [
    "from sklearn.model_selection import train_test_split\n",
    "x = df.drop('Loan_Status',axis=1)\n",
    "y = df['Loan_Status']\n",
    "x_train,x_test,y_train,y_test = train_test_split(x,y,test_size=0.20,random_state=42,stratify=y)"
   ]
  },
  {
   "attachments": {},
   "cell_type": "markdown",
   "metadata": {},
   "source": [
    "### **Logistic Regression**"
   ]
  },
  {
   "cell_type": "code",
   "execution_count": 5,
   "metadata": {},
   "outputs": [
    {
     "name": "stdout",
     "output_type": "stream",
     "text": [
      "Test data confusion matrix : \n",
      "[[22 16]\n",
      " [ 2 83]]\n",
      "Test data accuracy score : 0.8536585365853658\n",
      "**********************************************************************\n",
      "Train data confusion matrix : \n",
      "[[ 62  92]\n",
      " [  7 330]]\n",
      "Train data accuracy score : 0.7983706720977597\n"
     ]
    }
   ],
   "source": [
    "from sklearn.linear_model import LogisticRegression #imported Logistic Regression model\n",
    "from sklearn.metrics import accuracy_score,confusion_matrix,classification_report,precision_score,recall_score,f1_score\n",
    "\n",
    "logistic_model = LogisticRegression() # Logistic Regression instance created\n",
    "logistic_model.fit(x_train,y_train) # model fitting\n",
    "\n",
    "# Model evaluation\n",
    "y_pred_test = logistic_model.predict(x_test)\n",
    "cnf_matrix = confusion_matrix(y_test,y_pred_test)\n",
    "print(f\"Test data confusion matrix : \\n{cnf_matrix}\")\n",
    "Logistic_Regression_Accuracy = accuracy_score(y_test,y_pred_test)\n",
    "print(f\"Test data accuracy score : {Logistic_Regression_Accuracy}\")\n",
    "print('*'*70)\n",
    "y_pred_train = logistic_model.predict(x_train)\n",
    "cnf_matrix = confusion_matrix(y_train,y_pred_train)\n",
    "print(f\"Train data confusion matrix : \\n{cnf_matrix}\")\n",
    "acc = accuracy_score(y_train,y_pred_train)\n",
    "print(f\"Train data accuracy score : {acc}\")"
   ]
  },
  {
   "attachments": {},
   "cell_type": "markdown",
   "metadata": {},
   "source": [
    "### **Decision Tree**"
   ]
  },
  {
   "cell_type": "code",
   "execution_count": 6,
   "metadata": {},
   "outputs": [
    {
     "name": "stdout",
     "output_type": "stream",
     "text": [
      "Test data confusion matrix : \n",
      "[[22 16]\n",
      " [15 70]]\n",
      "Test data accuracy score : 0.7479674796747967\n",
      "**********************************************************************\n",
      "Train data confusion matrix : \n",
      "[[154   0]\n",
      " [  0 337]]\n",
      "Train data accuracy score : 1.0\n"
     ]
    }
   ],
   "source": [
    "from sklearn.tree import DecisionTreeClassifier # imported Decision Tree model\n",
    "\n",
    "dt_model = DecisionTreeClassifier() # Decision Tree instance created\n",
    "dt_model.fit(x_train,y_train) # # model fitting\n",
    "\n",
    "# Model evaluation\n",
    "y_pred_test = dt_model.predict(x_test)\n",
    "cnf_matrix = confusion_matrix(y_test,y_pred_test)\n",
    "print(f\"Test data confusion matrix : \\n{cnf_matrix}\")\n",
    "Decision_Tree_Accuracy = accuracy_score(y_test,y_pred_test)\n",
    "print(f\"Test data accuracy score : {Decision_Tree_Accuracy}\")\n",
    "print('*'*70)\n",
    "y_pred_train = dt_model.predict(x_train)\n",
    "cnf_matrix = confusion_matrix(y_train,y_pred_train)\n",
    "print(f\"Train data confusion matrix : \\n{cnf_matrix}\")\n",
    "acc = accuracy_score(y_train,y_pred_train)\n",
    "print(f\"Train data accuracy score : {acc}\")"
   ]
  },
  {
   "attachments": {},
   "cell_type": "markdown",
   "metadata": {},
   "source": [
    "### **Decision Tree Hyperparameter tunning**"
   ]
  },
  {
   "cell_type": "code",
   "execution_count": 7,
   "metadata": {},
   "outputs": [
    {
     "name": "stdout",
     "output_type": "stream",
     "text": [
      "Test data confusion matrix : \n",
      "[[22 16]\n",
      " [ 1 84]]\n",
      "Test data accuracy score : 0.8617886178861789\n",
      "**********************************************************************\n",
      "Train data confusion matrix : \n",
      "[[ 64  90]\n",
      " [  7 330]]\n",
      "Train data accuracy score : 0.8024439918533605\n"
     ]
    }
   ],
   "source": [
    "from sklearn.model_selection import GridSearchCV,RandomizedSearchCV # for hyperparameter tunning this two technique are used\n",
    "\n",
    "# Decision Tree Hyperparameters\n",
    "hyperparameters = {'criterion':['gini','entropy'],\n",
    "                  'max_depth':np.arange(3,8),\n",
    "                  'min_samples_split':np.arange(2,20),\n",
    "                  'min_samples_leaf':np.arange(2,15)}\n",
    "rscv_dt = RandomizedSearchCV(dt_model,hyperparameters,cv=5)  # here we are using RandomizedSearchCV to save time\n",
    "rscv_dt.fit(x_train,y_train)\n",
    "\n",
    "dt_clf = rscv_dt.best_estimator_  # thus are the best hyperparameter\n",
    "dt_clf.fit(x_train,y_train)       # model fitting\n",
    "\n",
    "# model evaluation\n",
    "# calculating accuracy after hyperparameter tunning\n",
    "y_pred_test = dt_clf.predict(x_test)\n",
    "cnf_matrix = confusion_matrix(y_test,y_pred_test)\n",
    "print(f\"Test data confusion matrix : \\n{cnf_matrix}\")\n",
    "Decision_Tree_Hyperparameter_Accuracy = accuracy_score(y_test,y_pred_test)\n",
    "print(f\"Test data accuracy score : {Decision_Tree_Hyperparameter_Accuracy}\")\n",
    "print('*'*70)\n",
    "y_pred_train = dt_clf.predict(x_train)\n",
    "cnf_matrix = confusion_matrix(y_train,y_pred_train)\n",
    "print(f\"Train data confusion matrix : \\n{cnf_matrix}\")\n",
    "acc = accuracy_score(y_train,y_pred_train)\n",
    "print(f\"Train data accuracy score : {acc}\")"
   ]
  },
  {
   "attachments": {},
   "cell_type": "markdown",
   "metadata": {},
   "source": [
    "### **Decision tree model building with pruining**"
   ]
  },
  {
   "cell_type": "code",
   "execution_count": 8,
   "metadata": {},
   "outputs": [
    {
     "data": {
      "text/plain": [
       "<matplotlib.legend.Legend at 0x22ea364b3a0>"
      ]
     },
     "execution_count": 8,
     "metadata": {},
     "output_type": "execute_result"
    },
    {
     "data": {
      "image/png": "[encoded data removed]",
      "text/plain": [
       "<Figure size 640x480 with 1 Axes>"
      ]
     },
     "metadata": {},
     "output_type": "display_data"
    }
   ],
   "source": [
    "result = dt_model.cost_complexity_pruning_path(x_train,y_train) # Here we get dict of ccp-alpha and impuritie values\n",
    "\n",
    "ccp_alpha_list = result['ccp_alphas'] # all ccp_alphas values stored\n",
    "\n",
    "from numpy.random.mtrand import random\n",
    "# for each ccp_alphas calculating training accuracy\n",
    "for ccp_alpha in ccp_alpha_list:\n",
    "  dt_pruining = DecisionTreeClassifier(random_state=10,ccp_alpha = ccp_alpha)\n",
    "  dt_pruining.fit(x_train,y_train)\n",
    "  train_accuracy = dt_pruining.score(x_train,y_train)\n",
    "\n",
    "train_acc_list = []\n",
    "test_acc_list = []\n",
    "for ccp_alpha in ccp_alpha_list:\n",
    "  dt_pruining = DecisionTreeClassifier(random_state=10,ccp_alpha = ccp_alpha)\n",
    "  dt_pruining.fit(x_train,y_train)\n",
    "  train_acc_list.append(dt_pruining.score(x_train,y_train))\n",
    "  test_acc_list.append(dt_pruining.score(x_test,y_test))\n",
    "\n",
    "# plot graph to find best ccp_alpha value\n",
    "fig,ax = plt.subplots()\n",
    "ax.plot(ccp_alpha_list,train_acc_list,label = \"Training data accuracy\")\n",
    "ax.plot(ccp_alpha_list,test_acc_list,label = \"Testing data accuracy\")\n",
    "ax.legend()"
   ]
  },
  {
   "cell_type": "code",
   "execution_count": 9,
   "metadata": {},
   "outputs": [
    {
     "data": {
      "text/plain": [
       "(array([41, 42], dtype=int64),)"
      ]
     },
     "execution_count": 9,
     "metadata": {},
     "output_type": "execute_result"
    }
   ],
   "source": [
    "# find max test accuracy\n",
    "np.where(test_acc_list == np.max(test_acc_list))"
   ]
  },
  {
   "cell_type": "code",
   "execution_count": 10,
   "metadata": {},
   "outputs": [
    {
     "data": {
      "text/html": [
       "<style>#sk-container-id-1 {color: black;background-color: white;}#sk-container-id-1 pre{padding: 0;}#sk-container-id-1 div.sk-toggleable {background-color: white;}#sk-container-id-1 label.sk-toggleable__label {cursor: pointer;display: block;width: 100%;margin-bottom: 0;padding: 0.3em;box-sizing: border-box;text-align: center;}#sk-container-id-1 label.sk-toggleable__label-arrow:before {content: \"▸\";float: left;margin-right: 0.25em;color: #696969;}#sk-container-id-1 label.sk-toggleable__label-arrow:hover:before {color: black;}#sk-container-id-1 div.sk-estimator:hover label.sk-toggleable__label-arrow:before {color: black;}#sk-container-id-1 div.sk-toggleable__content {max-height: 0;max-width: 0;overflow: hidden;text-align: left;background-color: #f0f8ff;}#sk-container-id-1 div.sk-toggleable__content pre {margin: 0.2em;color: black;border-radius: 0.25em;background-color: #f0f8ff;}#sk-container-id-1 input.sk-toggleable__control:checked~div.sk-toggleable__content {max-height: 200px;max-width: 100%;overflow: auto;}#sk-container-id-1 input.sk-toggleable__control:checked~label.sk-toggleable__label-arrow:before {content: \"▾\";}#sk-container-id-1 div.sk-estimator input.sk-toggleable__control:checked~label.sk-toggleable__label {background-color: #d4ebff;}#sk-container-id-1 div.sk-label input.sk-toggleable__control:checked~label.sk-toggleable__label {background-color: #d4ebff;}#sk-container-id-1 input.sk-hidden--visually {border: 0;clip: rect(1px 1px 1px 1px);clip: rect(1px, 1px, 1px, 1px);height: 1px;margin: -1px;overflow: hidden;padding: 0;position: absolute;width: 1px;}#sk-container-id-1 div.sk-estimator {font-family: monospace;background-color: #f0f8ff;border: 1px dotted black;border-radius: 0.25em;box-sizing: border-box;margin-bottom: 0.5em;}#sk-container-id-1 div.sk-estimator:hover {background-color: #d4ebff;}#sk-container-id-1 div.sk-parallel-item::after {content: \"\";width: 100%;border-bottom: 1px solid gray;flex-grow: 1;}#sk-container-id-1 div.sk-label:hover label.sk-toggleable__label {background-color: #d4ebff;}#sk-container-id-1 div.sk-serial::before {content: \"\";position: absolute;border-left: 1px solid gray;box-sizing: border-box;top: 0;bottom: 0;left: 50%;z-index: 0;}#sk-container-id-1 div.sk-serial {display: flex;flex-direction: column;align-items: center;background-color: white;padding-right: 0.2em;padding-left: 0.2em;position: relative;}#sk-container-id-1 div.sk-item {position: relative;z-index: 1;}#sk-container-id-1 div.sk-parallel {display: flex;align-items: stretch;justify-content: center;background-color: white;position: relative;}#sk-container-id-1 div.sk-item::before, #sk-container-id-1 div.sk-parallel-item::before {content: \"\";position: absolute;border-left: 1px solid gray;box-sizing: border-box;top: 0;bottom: 0;left: 50%;z-index: -1;}#sk-container-id-1 div.sk-parallel-item {display: flex;flex-direction: column;z-index: 1;position: relative;background-color: white;}#sk-container-id-1 div.sk-parallel-item:first-child::after {align-self: flex-end;width: 50%;}#sk-container-id-1 div.sk-parallel-item:last-child::after {align-self: flex-start;width: 50%;}#sk-container-id-1 div.sk-parallel-item:only-child::after {width: 0;}#sk-container-id-1 div.sk-dashed-wrapped {border: 1px dashed gray;margin: 0 0.4em 0.5em 0.4em;box-sizing: border-box;padding-bottom: 0.4em;background-color: white;}#sk-container-id-1 div.sk-label label {font-family: monospace;font-weight: bold;display: inline-block;line-height: 1.2em;}#sk-container-id-1 div.sk-label-container {text-align: center;}#sk-container-id-1 div.sk-container {/* jupyter's `normalize.less` sets `[hidden] { display: none; }` but bootstrap.min.css set `[hidden] { display: none !important; }` so we also need the `!important` here to be able to override the default hidden behavior on the sphinx rendered scikit-learn.org. See: https://github.com/scikit-learn/scikit-learn/issues/21755 */display: inline-block !important;position: relative;}#sk-container-id-1 div.sk-text-repr-fallback {display: none;}</style><div id=\"sk-container-id-1\" class=\"sk-top-container\"><div class=\"sk-text-repr-fallback\"><pre>DecisionTreeClassifier(ccp_alpha=0.004636795655125594, random_state=10)</pre><b>In a Jupyter environment, please rerun this cell to show the HTML representation or trust the notebook. <br />On GitHub, the HTML representation is unable to render, please try loading this page with nbviewer.org.</b></div><div class=\"sk-container\" hidden><div class=\"sk-item\"><div class=\"sk-estimator sk-toggleable\"><input class=\"sk-toggleable__control sk-hidden--visually\" id=\"sk-estimator-id-1\" type=\"checkbox\" checked><label for=\"sk-estimator-id-1\" class=\"sk-toggleable__label sk-toggleable__label-arrow\">DecisionTreeClassifier</label><div class=\"sk-toggleable__content\"><pre>DecisionTreeClassifier(ccp_alpha=0.004636795655125594, random_state=10)</pre></div></div></div></div></div>"
      ],
      "text/plain": [
       "DecisionTreeClassifier(ccp_alpha=0.004636795655125594, random_state=10)"
      ]
     },
     "execution_count": 10,
     "metadata": {},
     "output_type": "execute_result"
    }
   ],
   "source": [
    "dt_pruining = DecisionTreeClassifier(random_state=10,ccp_alpha =ccp_alpha_list[41] )\n",
    "dt_pruining.fit(x_train,y_train)\n"
   ]
  },
  {
   "cell_type": "code",
   "execution_count": 11,
   "metadata": {},
   "outputs": [
    {
     "name": "stdout",
     "output_type": "stream",
     "text": [
      "Test data confusion matrix : \n",
      "[[24 14]\n",
      " [ 4 81]]\n",
      "Test data accuracy score : 0.8536585365853658\n",
      "**********************************************************************\n",
      "Train data confusion matrix : \n",
      "[[ 73  81]\n",
      " [  8 329]]\n",
      "Train data accuracy score : 0.8187372708757638\n"
     ]
    }
   ],
   "source": [
    "# calculating accuracy after pruining\n",
    "y_pred_test = dt_pruining.predict(x_test)\n",
    "cnf_matrix = confusion_matrix(y_test,y_pred_test)\n",
    "print(f\"Test data confusion matrix : \\n{cnf_matrix}\")\n",
    "Decision_Tree_Pruining_Accuracy = accuracy_score(y_test,y_pred_test)\n",
    "print(f\"Test data accuracy score : {Decision_Tree_Pruining_Accuracy}\")\n",
    "print('*'*70)\n",
    "y_pred_train = dt_pruining.predict(x_train)\n",
    "cnf_matrix = confusion_matrix(y_train,y_pred_train)\n",
    "print(f\"Train data confusion matrix : \\n{cnf_matrix}\")\n",
    "acc = accuracy_score(y_train,y_pred_train)\n",
    "print(f\"Train data accuracy score : {acc}\")"
   ]
  },
  {
   "attachments": {},
   "cell_type": "markdown",
   "metadata": {},
   "source": [
    "### **Random Forest**"
   ]
  },
  {
   "cell_type": "code",
   "execution_count": 12,
   "metadata": {},
   "outputs": [
    {
     "name": "stdout",
     "output_type": "stream",
     "text": [
      "Test data confusion matrix : \n",
      "[[24 14]\n",
      " [ 6 79]]\n",
      "Test data accuracy score : 0.8373983739837398\n",
      "**********************************************************************\n",
      "Train data confusion matrix : \n",
      "[[154   0]\n",
      " [  0 337]]\n",
      "Train data accuracy score : 1.0\n"
     ]
    }
   ],
   "source": [
    "from sklearn.ensemble import RandomForestClassifier # Random forest model imported\n",
    "\n",
    "rf_model = RandomForestClassifier() # random Forest instance created\n",
    "rf_model.fit(x_train,y_train)  # model fitting done\n",
    "\n",
    "# model evaluation\n",
    "# calculating accuracy of random forest model without hyperparameters tunning\n",
    "y_pred_test = rf_model.predict(x_test)\n",
    "cnf_matrix = confusion_matrix(y_test,y_pred_test)\n",
    "print(f\"Test data confusion matrix : \\n{cnf_matrix}\")\n",
    "Random_Forest_Accuracy = accuracy_score(y_test,y_pred_test)\n",
    "print(f\"Test data accuracy score : {Random_Forest_Accuracy}\")\n",
    "print('*'*70)\n",
    "y_pred_train = rf_model.predict(x_train)\n",
    "cnf_matrix = confusion_matrix(y_train,y_pred_train)\n",
    "print(f\"Train data confusion matrix : \\n{cnf_matrix}\")\n",
    "acc = accuracy_score(y_train,y_pred_train)\n",
    "print(f\"Train data accuracy score : {acc}\")"
   ]
  },
  {
   "attachments": {},
   "cell_type": "markdown",
   "metadata": {},
   "source": [
    "### **Random forest hyperparameter tunning**"
   ]
  },
  {
   "cell_type": "code",
   "execution_count": 13,
   "metadata": {},
   "outputs": [
    {
     "name": "stdout",
     "output_type": "stream",
     "text": [
      "Test data confusion matrix : \n",
      "[[21 17]\n",
      " [ 1 84]]\n",
      "Test data accuracy score : 0.8536585365853658\n",
      "**********************************************************************\n",
      "Train data confusion matrix : \n",
      "[[ 64  90]\n",
      " [  7 330]]\n",
      "Train data accuracy score : 0.8024439918533605\n"
     ]
    }
   ],
   "source": [
    "from sklearn.ensemble import RandomForestClassifier # Random forest model imported\n",
    "rf_model = RandomForestClassifier() # random Forest instance created\n",
    "\n",
    "hyperparameters = {'n_estimators':np.arange(10,200),\n",
    "                   'criterion': ['gini', 'entropy'],\n",
    "                   'max_depth':np.arange(3,8),\n",
    "                   'max_depth':np.arange(3,8),\n",
    "                   'min_samples_split':np.arange(4,20),\n",
    "                   'min_samples_leaf':np.arange(3,10),\n",
    "                   'max_features':[7],\n",
    "                   'oob_score':[True],\n",
    "                   'random_state':[10],\n",
    "                   }\n",
    "rscv_rf = RandomizedSearchCV(rf_model,hyperparameters,cv=5)\n",
    "rscv_rf.fit(x_train,y_train)\n",
    "\n",
    "rf_hyp = rscv_rf.best_estimator_  # all best hyperparameters are stored in variable\n",
    "rf_hyp.fit(x_train,y_train) # train model with new parameters\n",
    "\n",
    "# model evaluation\n",
    "y_pred_test = rf_hyp.predict(x_test)\n",
    "cnf_matrix = confusion_matrix(y_test,y_pred_test)\n",
    "print(f\"Test data confusion matrix : \\n{cnf_matrix}\")\n",
    "Random_Forest_Hyperparameter_Accuracy = accuracy_score(y_test,y_pred_test)\n",
    "print(f\"Test data accuracy score : {Random_Forest_Hyperparameter_Accuracy}\")\n",
    "print('*'*70)\n",
    "y_pred_train = rf_hyp.predict(x_train)\n",
    "cnf_matrix = confusion_matrix(y_train,y_pred_train)\n",
    "print(f\"Train data confusion matrix : \\n{cnf_matrix}\")\n",
    "acc = accuracy_score(y_train,y_pred_train)\n",
    "print(f\"Train data accuracy score : {acc}\")"
   ]
  },
  {
   "attachments": {},
   "cell_type": "markdown",
   "metadata": {},
   "source": [
    "### **Adaboost**"
   ]
  },
  {
   "cell_type": "code",
   "execution_count": 14,
   "metadata": {},
   "outputs": [
    {
     "name": "stdout",
     "output_type": "stream",
     "text": [
      "Test data confusion matrix : \n",
      "[[24 14]\n",
      " [ 8 77]]\n",
      "Test data accuracy score : 0.8211382113821138\n",
      "**********************************************************************\n",
      "Train data confusion matrix : \n",
      "[[ 86  68]\n",
      " [ 14 323]]\n",
      "Train data accuracy score : 0.8329938900203666\n"
     ]
    }
   ],
   "source": [
    "from sklearn.ensemble import AdaBoostClassifier # Adaboost imported\n",
    "\n",
    "adb_model = AdaBoostClassifier() # Adaboost instance created\n",
    "adb_model.fit(x_train,y_train) # Model fitting done\n",
    "\n",
    "# Model evaluation\n",
    "# calculating accuracy of Adaboost model evaluation\n",
    "y_pred_test = adb_model.predict(x_test)\n",
    "cnf_matrix = confusion_matrix(y_test,y_pred_test)\n",
    "print(f\"Test data confusion matrix : \\n{cnf_matrix}\")\n",
    "Adaboost_Accuracy = accuracy_score(y_test,y_pred_test)\n",
    "print(f\"Test data accuracy score : {Adaboost_Accuracy}\")\n",
    "print('*'*70)\n",
    "y_pred_train = adb_model.predict(x_train)\n",
    "cnf_matrix = confusion_matrix(y_train,y_pred_train)\n",
    "print(f\"Train data confusion matrix : \\n{cnf_matrix}\")\n",
    "acc = accuracy_score(y_train,y_pred_train)\n",
    "print(f\"Train data accuracy score : {acc}\")"
   ]
  },
  {
   "attachments": {},
   "cell_type": "markdown",
   "metadata": {},
   "source": [
    "### **Adaboost hyperparameter tunning**"
   ]
  },
  {
   "cell_type": "code",
   "execution_count": 15,
   "metadata": {},
   "outputs": [
    {
     "name": "stdout",
     "output_type": "stream",
     "text": [
      "Test data confusion matrix : \n",
      "[[21 17]\n",
      " [ 1 84]]\n",
      "Test data accuracy score : 0.8536585365853658\n",
      "**********************************************************************\n",
      "Train data confusion matrix : \n",
      "[[ 61  93]\n",
      " [  6 331]]\n",
      "Train data accuracy score : 0.7983706720977597\n"
     ]
    }
   ],
   "source": [
    "adb_clf = AdaBoostClassifier(random_state=10) # Adaboost instance created\n",
    "\n",
    "hyperparameters = {'n_estimators':np.arange(10,100),\n",
    "                   'learning_rate':np.arange(0,2,0.001)}\n",
    "rscv_adb = RandomizedSearchCV(adb_clf,hyperparameters,cv=5)\n",
    "rscv_adb.fit(x_train,y_train)\n",
    "\n",
    "adb_hyp = rscv_adb.best_estimator_ # all best hyperparameters are stored in variable\n",
    "adb_hyp.fit(x_train,y_train)  # train model with new parameters\n",
    "\n",
    "# calculating accuracy of Adaboost after hyperparameter tunning model evaluation\n",
    "y_pred_test = adb_hyp.predict(x_test)\n",
    "cnf_matrix = confusion_matrix(y_test,y_pred_test)\n",
    "print(f\"Test data confusion matrix : \\n{cnf_matrix}\")\n",
    "Adaboost_hyperparameter_Accuracy = accuracy_score(y_test,y_pred_test)\n",
    "print(f\"Test data accuracy score : {Adaboost_hyperparameter_Accuracy}\")\n",
    "print('*'*70)\n",
    "y_pred_train = adb_hyp.predict(x_train)\n",
    "cnf_matrix = confusion_matrix(y_train,y_pred_train)\n",
    "print(f\"Train data confusion matrix : \\n{cnf_matrix}\")\n",
    "acc = accuracy_score(y_train,y_pred_train)\n",
    "print(f\"Train data accuracy score : {acc}\")"
   ]
  },
  {
   "attachments": {},
   "cell_type": "markdown",
   "metadata": {},
   "source": [
    "### **SVM (Support vector machine)**\n"
   ]
  },
  {
   "cell_type": "code",
   "execution_count": 16,
   "metadata": {},
   "outputs": [
    {
     "name": "stdout",
     "output_type": "stream",
     "text": [
      "Test data confusion matrix : \n",
      "[[38  0]\n",
      " [85  0]]\n",
      "Test data accuracy score : 0.3089430894308943\n",
      "**********************************************************************\n",
      "Train data confusion matrix : \n",
      "[[154   0]\n",
      " [337   0]]\n",
      "Train data accuracy score : 0.3136456211812627\n"
     ]
    }
   ],
   "source": [
    "from sklearn.svm import SVC # Support vector machine imported for classification type of problem\n",
    "from sklearn.preprocessing import StandardScaler # SVM scalling is must\n",
    "\n",
    "std_scaler = StandardScaler() # Standard scaler instance created\n",
    "x_scaled_array = std_scaler.fit_transform(x)\n",
    "# y_scaled_array = std_scaler.fit(y)\n",
    "x_scaled = pd.DataFrame(x_scaled_array,columns=x.columns)\n",
    "\n",
    "# split data\n",
    "x_train,x_test,y_train,y_test = train_test_split(x_scaled,y,test_size=0.20,random_state=42,stratify=y)\n",
    "\n",
    "svm_clf = SVC() # SVM classification instance created\n",
    "svm_clf.fit(x_train,y_train)\n",
    "\n",
    "# calculating accuracy of SVM model evaluation\n",
    "y_pred_test = adb_model.predict(x_test)\n",
    "cnf_matrix = confusion_matrix(y_test,y_pred_test)\n",
    "print(f\"Test data confusion matrix : \\n{cnf_matrix}\")\n",
    "SVM_Accuracy = accuracy_score(y_test,y_pred_test)\n",
    "print(f\"Test data accuracy score : {SVM_Accuracy}\")\n",
    "print('*'*70)\n",
    "y_pred_train = adb_model.predict(x_train)\n",
    "cnf_matrix = confusion_matrix(y_train,y_pred_train)\n",
    "print(f\"Train data confusion matrix : \\n{cnf_matrix}\")\n",
    "acc = accuracy_score(y_train,y_pred_train)\n",
    "print(f\"Train data accuracy score : {acc}\")"
   ]
  },
  {
   "attachments": {},
   "cell_type": "markdown",
   "metadata": {},
   "source": [
    "### **SVM (Support vector machine) hyperparameter tunning**\n"
   ]
  },
  {
   "cell_type": "code",
   "execution_count": 17,
   "metadata": {},
   "outputs": [
    {
     "name": "stdout",
     "output_type": "stream",
     "text": [
      "Test data confusion matrix : \n",
      "[[21 17]\n",
      " [ 1 84]]\n",
      "Test data accuracy score : 0.8536585365853658\n",
      "**********************************************************************\n",
      "Train data confusion matrix : \n",
      "[[ 61  93]\n",
      " [  6 331]]\n",
      "Train data accuracy score : 0.7983706720977597\n"
     ]
    }
   ],
   "source": [
    "svm_clf = SVC() # SVM classification instance created\n",
    "hyperparameters = {'C':np.arange(1,50),\n",
    "                   'kernel':['linear', 'poly', 'rbf', 'sigmoid'],}\n",
    "\n",
    "rscv_svm = RandomizedSearchCV(svm_clf,hyperparameters,cv=5)\n",
    "rscv_svm.fit(x_train,y_train)\n",
    "\n",
    "svm_hyp = rscv_svm.best_estimator_ # all best hyperparameters are stored in variable\n",
    "svm_hyp.fit(x_train,y_train)  # train model with new parameters\n",
    "\n",
    "# calculating accuracy of SVM model evaluation after hyperparameter\n",
    "y_pred_test = svm_hyp.predict(x_test)\n",
    "cnf_matrix = confusion_matrix(y_test,y_pred_test)\n",
    "print(f\"Test data confusion matrix : \\n{cnf_matrix}\")\n",
    "SVM_Hyperparameter_Accuracy = accuracy_score(y_test,y_pred_test)\n",
    "print(f\"Test data accuracy score : {SVM_Hyperparameter_Accuracy}\")\n",
    "print('*'*70)\n",
    "y_pred_train = svm_hyp.predict(x_train)\n",
    "cnf_matrix = confusion_matrix(y_train,y_pred_train)\n",
    "print(f\"Train data confusion matrix : \\n{cnf_matrix}\")\n",
    "acc = accuracy_score(y_train,y_pred_train)\n",
    "print(f\"Train data accuracy score : {acc}\")"
   ]
  },
  {
   "attachments": {},
   "cell_type": "markdown",
   "metadata": {},
   "source": [
    "### **KNN (K-Nearest Neighbour)**"
   ]
  },
  {
   "cell_type": "code",
   "execution_count": 18,
   "metadata": {},
   "outputs": [
    {
     "name": "stdout",
     "output_type": "stream",
     "text": [
      "                     Model name  Accuracy\n",
      "8                           SVM  0.308943\n",
      "1                 Decision tree  0.747967\n",
      "6                      adaboost  0.821138\n",
      "4                 Random forest  0.837398\n",
      "0           logistic Regression  0.853659\n",
      "3        Decision tree pruining  0.853659\n",
      "5  random forest hyperparameter  0.853659\n",
      "7       Adaboost hyperparameter  0.853659\n",
      "9            SVM hyperparameter  0.853659\n",
      "2  Decision tree hyperparameter  0.861789\n"
     ]
    }
   ],
   "source": [
    "data = {'Model name': ['logistic Regression', 'Decision tree', 'Decision tree hyperparameter', 'Decision tree pruining','Random forest','random forest hyperparameter','adaboost','Adaboost hyperparameter','SVM','SVM hyperparameter'],\n",
    "        'Accuracy': [Logistic_Regression_Accuracy,Decision_Tree_Accuracy,Decision_Tree_Hyperparameter_Accuracy,Decision_Tree_Pruining_Accuracy,Random_Forest_Accuracy,Random_Forest_Hyperparameter_Accuracy,Adaboost_Accuracy,Adaboost_hyperparameter_Accuracy,SVM_Accuracy,SVM_Hyperparameter_Accuracy]}\n",
    "\n",
    "df = pd.DataFrame(data,columns=['Model name','Accuracy'])\n",
    "\n",
    "print(df.sort_values(by='Accuracy'))\n"
   ]
  },
  {
   "cell_type": "code",
   "execution_count": null,
   "metadata": {},
   "outputs": [],
   "source": []
  }
 ],
 "metadata": {
  "kernelspec": {
   "display_name": "loan_approval_prediction",
   "language": "python",
   "name": "python3"
  },
  "language_info": {
   "codemirror_mode": {
    "name": "ipython",
    "version": 3
   },
   "file_extension": ".py",
   "mimetype": "text/x-python",
   "name": "python",
   "nbconvert_exporter": "python",
   "pygments_lexer": "ipython3",
   "version": "3.10.9"
  },
  "orig_nbformat": 4
 },
 "nbformat": 4,
 "nbformat_minor": 2
}
